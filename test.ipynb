{
 "cells": [
  {
   "cell_type": "code",
   "execution_count": null,
   "metadata": {},
   "outputs": [],
   "source": [
    "import os\n",
    "os.environ[\"TORCH_USE_CUDA_DSA\"] = \"1\" # Enable CUDA DSA\n",
    "os.environ[\"CUDA_VISIBLE_DEVICES\"] = \"2\"\n",
    "\n",
    "from transformers import AutoTokenizer, AutoModelForSeq2SeqLM"
   ]
  },
  {
   "cell_type": "code",
   "execution_count": 9,
   "metadata": {},
   "outputs": [],
   "source": [
    "# MODEL_PATH = \"BounharAbdelaziz/Terjman-Nano-v2.0-512\"\n",
    "MODEL_PATH = \"BounharAbdelaziz/Terjman-Nano-v2.1-512\"\n",
    "# MODEL_PATH = \"BounharAbdelaziz/Terjman-Large-v2.0\"\n",
    "MODEL_PATH = \"BounharAbdelaziz/Terjman-Ultra-v2.0\"\n",
    "# MODEL_PATH = \"BounharAbdelaziz/Terjman-Ultra-v2.1\""
   ]
  },
  {
   "cell_type": "code",
   "execution_count": 10,
   "metadata": {},
   "outputs": [],
   "source": [
    "# Load the tokenizer and model\n",
    "tokenizer = AutoTokenizer.from_pretrained(MODEL_PATH, src_lang=\"eng_Latn\", tgt_lang=\"ary_Arab\")\n",
    "model = AutoModelForSeq2SeqLM.from_pretrained(MODEL_PATH)"
   ]
  },
  {
   "cell_type": "code",
   "execution_count": 11,
   "metadata": {},
   "outputs": [
    {
     "name": "stdout",
     "output_type": "stream",
     "text": [
      "Translation: عافاك كتب النص ديالك بالإنجليزية غادي هنا.\n"
     ]
    }
   ],
   "source": [
    "# Define your Moroccan Darija Arabizi text\n",
    "input_text = \"Please write your english text goes here.\"\n",
    "\n",
    "# Tokenize the input text\n",
    "input_tokens = tokenizer(input_text, return_tensors=\"pt\", padding=True, truncation=True)\n",
    "\n",
    "# Perform translation\n",
    "output_tokens = model.generate(**input_tokens)\n",
    "\n",
    "# Decode the output tokens\n",
    "output_text = tokenizer.decode(output_tokens[0], skip_special_tokens=True)\n",
    "\n",
    "print(\"Translation:\", output_text)"
   ]
  }
 ],
 "metadata": {
  "kernelspec": {
   "display_name": "Python 3",
   "language": "python",
   "name": "python3"
  },
  "language_info": {
   "codemirror_mode": {
    "name": "ipython",
    "version": 3
   },
   "file_extension": ".py",
   "mimetype": "text/x-python",
   "name": "python",
   "nbconvert_exporter": "python",
   "pygments_lexer": "ipython3",
   "version": "3.12.3"
  }
 },
 "nbformat": 4,
 "nbformat_minor": 2
}
