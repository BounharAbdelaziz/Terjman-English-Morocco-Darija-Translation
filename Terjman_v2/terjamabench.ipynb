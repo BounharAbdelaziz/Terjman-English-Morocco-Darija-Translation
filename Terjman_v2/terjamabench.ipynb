{
 "cells": [
  {
   "cell_type": "code",
   "execution_count": 1,
   "metadata": {},
   "outputs": [
    {
     "name": "stderr",
     "output_type": "stream",
     "text": [
      "/home/infres/abounhar/.local/lib/python3.12/site-packages/tqdm/auto.py:21: TqdmWarning: IProgress not found. Please update jupyter and ipywidgets. See https://ipywidgets.readthedocs.io/en/stable/user_install.html\n",
      "  from .autonotebook import tqdm as notebook_tqdm\n"
     ]
    }
   ],
   "source": [
    "from datasets import load_dataset\n",
    "import string\n",
    "import pandas as pd\n",
    "from tqdm import tqdm\n",
    "from sacrebleu.metrics import BLEU, CHRF, TER\n",
    "from transformers import pipeline\n",
    "import os\n",
    "os.environ['CUDA_VISIBLE_DEVICES'] = \"1\""
   ]
  },
  {
   "cell_type": "code",
   "execution_count": 2,
   "metadata": {},
   "outputs": [],
   "source": [
    "# Load metrics\n",
    "metric_bleu = BLEU(effective_order=True)\n",
    "metric_chrf = CHRF()\n",
    "metric_ter = TER()"
   ]
  },
  {
   "cell_type": "code",
   "execution_count": 3,
   "metadata": {},
   "outputs": [],
   "source": [
    "def process_txt(text):\n",
    "  translator = str.maketrans('', '', string.punctuation)\n",
    "  return text.translate(translator).strip()\n",
    "\n",
    "def evaluate(df, MODELS) -> pd.DataFrame:\n",
    "    for model_path in MODELS:\n",
    "        if 'Ultra' in model_path:\n",
    "            pipe = pipeline(\"translation\", model=model_path, src_lang=\"eng_Latn\", tgt_lang=\"ary_Arab\", max_length=512, device=\"cuda\")\n",
    "        else:\n",
    "            pipe = pipeline(\"translation\", model=model_path, max_length=512, device=\"cuda\")\n",
    "        \n",
    "        for i in tqdm(df.index):\n",
    "            reference = df.loc[i, 'Darija']\n",
    "            english_text = df.loc[i, 'English']\n",
    "            translation = pipe(english_text)[0][\"translation_text\"]\n",
    "            \n",
    "            refs = [process_txt(reference)]\n",
    "            hyp = process_txt(translation)\n",
    "\n",
    "            df.loc[i, f'translated_{model_path.split('/')[-1]}'] = translation\n",
    "            df.loc[i, f'BLEU_{model_path.split('/')[-1]}'] = metric_bleu.sentence_score(references=refs, hypothesis=hyp).score\n",
    "            df.loc[i, f'CHRF_{model_path.split('/')[-1]}'] = metric_chrf.sentence_score(references=refs, hypothesis=hyp).score\n",
    "            df.loc[i, f'TER_{model_path.split('/')[-1]}'] = metric_ter.sentence_score(references=refs, hypothesis=hyp).score\n",
    "            \n",
    "        avg_bleu_score = df[f'BLEU_{model_path.split('/')[-1]}'].mean()\n",
    "        avg_chrf_score = df[f'CHRF_{model_path.split('/')[-1]}'].mean()\n",
    "        avg_ter_score = df[f'TER_{model_path.split('/')[-1]}'].mean()\n",
    "        \n",
    "        print(f'[INFO] For model: {model_path}')\n",
    "        print(f'bleu_score: {avg_bleu_score}')\n",
    "        print(f'chrf_score: {avg_chrf_score}')\n",
    "        print(f'ter_score: {avg_ter_score}')\n",
    "        print('-'*10)\n",
    "\n",
    "    return df"
   ]
  },
  {
   "cell_type": "code",
   "execution_count": 4,
   "metadata": {},
   "outputs": [],
   "source": [
    "bench = load_dataset(\"atlasia/TerjamaBench\", split='test').to_pandas()"
   ]
  },
  {
   "cell_type": "code",
   "execution_count": 5,
   "metadata": {},
   "outputs": [
    {
     "data": {
      "text/html": [
       "<div>\n",
       "<style scoped>\n",
       "    .dataframe tbody tr th:only-of-type {\n",
       "        vertical-align: middle;\n",
       "    }\n",
       "\n",
       "    .dataframe tbody tr th {\n",
       "        vertical-align: top;\n",
       "    }\n",
       "\n",
       "    .dataframe thead th {\n",
       "        text-align: right;\n",
       "    }\n",
       "</style>\n",
       "<table border=\"1\" class=\"dataframe\">\n",
       "  <thead>\n",
       "    <tr style=\"text-align: right;\">\n",
       "      <th></th>\n",
       "      <th>topic</th>\n",
       "      <th>subtopic</th>\n",
       "      <th>Arabizi</th>\n",
       "      <th>English</th>\n",
       "      <th>Darija</th>\n",
       "      <th>annotator_dialect</th>\n",
       "    </tr>\n",
       "  </thead>\n",
       "  <tbody>\n",
       "    <tr>\n",
       "      <th>0</th>\n",
       "      <td>dialect_variation</td>\n",
       "      <td>marrakech</td>\n",
       "      <td>lays3d lmasa</td>\n",
       "      <td>good evening</td>\n",
       "      <td>الله يسعد الماسا</td>\n",
       "      <td>Marrakech</td>\n",
       "    </tr>\n",
       "    <tr>\n",
       "      <th>1</th>\n",
       "      <td>dialect_variation</td>\n",
       "      <td>marrakech</td>\n",
       "      <td>lays3d saba7</td>\n",
       "      <td>good morning</td>\n",
       "      <td>الله يسعد الصباح</td>\n",
       "      <td>Marrakech</td>\n",
       "    </tr>\n",
       "    <tr>\n",
       "      <th>2</th>\n",
       "      <td>dialect_variation</td>\n",
       "      <td>marrakech</td>\n",
       "      <td>bit nmchi ndrb chi 9siyes flmdina</td>\n",
       "      <td>I’m heading to the old medina to eat something</td>\n",
       "      <td>بيت نمشي نضرب شي قسيس فالمدينة</td>\n",
       "      <td>Marrakech</td>\n",
       "    </tr>\n",
       "    <tr>\n",
       "      <th>3</th>\n",
       "      <td>dialect_variation</td>\n",
       "      <td>marrakech</td>\n",
       "      <td>aji lhad jih</td>\n",
       "      <td>come here</td>\n",
       "      <td>أجي لهاد جيه</td>\n",
       "      <td>Marrakech</td>\n",
       "    </tr>\n",
       "    <tr>\n",
       "      <th>4</th>\n",
       "      <td>dialect_variation</td>\n",
       "      <td>marrakech</td>\n",
       "      <td>achawa had ti9i9t lioma</td>\n",
       "      <td>It’s scorching hot today!</td>\n",
       "      <td>أشاوا هاد تيقيقت ليوما</td>\n",
       "      <td>Marrakech</td>\n",
       "    </tr>\n",
       "  </tbody>\n",
       "</table>\n",
       "</div>"
      ],
      "text/plain": [
       "               topic   subtopic                            Arabizi  \\\n",
       "0  dialect_variation  marrakech                       lays3d lmasa   \n",
       "1  dialect_variation  marrakech                       lays3d saba7   \n",
       "2  dialect_variation  marrakech  bit nmchi ndrb chi 9siyes flmdina   \n",
       "3  dialect_variation  marrakech                       aji lhad jih   \n",
       "4  dialect_variation  marrakech            achawa had ti9i9t lioma   \n",
       "\n",
       "                                          English  \\\n",
       "0                                    good evening   \n",
       "1                                    good morning   \n",
       "2  I’m heading to the old medina to eat something   \n",
       "3                                       come here   \n",
       "4                       It’s scorching hot today!   \n",
       "\n",
       "                           Darija annotator_dialect  \n",
       "0                الله يسعد الماسا         Marrakech  \n",
       "1                الله يسعد الصباح         Marrakech  \n",
       "2  بيت نمشي نضرب شي قسيس فالمدينة         Marrakech  \n",
       "3                    أجي لهاد جيه         Marrakech  \n",
       "4          أشاوا هاد تيقيقت ليوما         Marrakech  "
      ]
     },
     "execution_count": 5,
     "metadata": {},
     "output_type": "execute_result"
    }
   ],
   "source": [
    "bench.head()"
   ]
  },
  {
   "cell_type": "code",
   "execution_count": 6,
   "metadata": {},
   "outputs": [],
   "source": [
    "MODELS = [\n",
    "    \"BounharAbdelaziz/Terjman-Ultra-v2.2\",\n",
    "    \"BounharAbdelaziz/Terjman-Large-v2.2\",\n",
    "    \"BounharAbdelaziz/Terjman-Nano-v2.2\",\n",
    "]"
   ]
  },
  {
   "cell_type": "code",
   "execution_count": 7,
   "metadata": {},
   "outputs": [
    {
     "name": "stderr",
     "output_type": "stream",
     "text": [
      "Device set to use cuda\n",
      "  1%|          | 10/850 [00:01<02:25,  5.75it/s]You seem to be using the pipelines sequentially on GPU. In order to maximize efficiency please use a dataset\n",
      "100%|██████████| 850/850 [02:34<00:00,  5.50it/s]\n"
     ]
    },
    {
     "name": "stdout",
     "output_type": "stream",
     "text": [
      "[INFO] For model: BounharAbdelaziz/Terjman-Ultra-v2.2\n",
      "bleu_score: 25.17934653659352\n",
      "chrf_score: 45.163477645933845\n",
      "ter_score: 77.19670121141593\n",
      "----------\n"
     ]
    },
    {
     "name": "stderr",
     "output_type": "stream",
     "text": [
      "Device set to use cuda\n",
      "100%|██████████| 850/850 [02:47<00:00,  5.07it/s]\n"
     ]
    },
    {
     "name": "stdout",
     "output_type": "stream",
     "text": [
      "[INFO] For model: BounharAbdelaziz/Terjman-Large-v2.2\n",
      "bleu_score: 20.577393481575847\n",
      "chrf_score: 41.9021347455449\n",
      "ter_score: 81.81540525237182\n",
      "----------\n"
     ]
    },
    {
     "name": "stderr",
     "output_type": "stream",
     "text": [
      "Device set to use cuda\n",
      "100%|██████████| 850/850 [01:07<00:00, 12.65it/s]"
     ]
    },
    {
     "name": "stdout",
     "output_type": "stream",
     "text": [
      "[INFO] For model: BounharAbdelaziz/Terjman-Nano-v2.2\n",
      "bleu_score: 18.77464106466772\n",
      "chrf_score: 38.41039387371171\n",
      "ter_score: 100.73932218279197\n",
      "----------\n"
     ]
    },
    {
     "name": "stderr",
     "output_type": "stream",
     "text": [
      "\n"
     ]
    }
   ],
   "source": [
    "results_df = evaluate(bench, MODELS)"
   ]
  },
  {
   "cell_type": "code",
   "execution_count": 8,
   "metadata": {},
   "outputs": [
    {
     "data": {
      "text/html": [
       "<div>\n",
       "<style scoped>\n",
       "    .dataframe tbody tr th:only-of-type {\n",
       "        vertical-align: middle;\n",
       "    }\n",
       "\n",
       "    .dataframe tbody tr th {\n",
       "        vertical-align: top;\n",
       "    }\n",
       "\n",
       "    .dataframe thead th {\n",
       "        text-align: right;\n",
       "    }\n",
       "</style>\n",
       "<table border=\"1\" class=\"dataframe\">\n",
       "  <thead>\n",
       "    <tr style=\"text-align: right;\">\n",
       "      <th></th>\n",
       "      <th>topic</th>\n",
       "      <th>subtopic</th>\n",
       "      <th>Arabizi</th>\n",
       "      <th>English</th>\n",
       "      <th>Darija</th>\n",
       "      <th>annotator_dialect</th>\n",
       "      <th>translated_Terjman-Ultra-v2.2</th>\n",
       "      <th>BLEU_Terjman-Ultra-v2.2</th>\n",
       "      <th>CHRF_Terjman-Ultra-v2.2</th>\n",
       "      <th>TER_Terjman-Ultra-v2.2</th>\n",
       "      <th>translated_Terjman-Large-v2.2</th>\n",
       "      <th>BLEU_Terjman-Large-v2.2</th>\n",
       "      <th>CHRF_Terjman-Large-v2.2</th>\n",
       "      <th>TER_Terjman-Large-v2.2</th>\n",
       "      <th>translated_Terjman-Nano-v2.2</th>\n",
       "      <th>BLEU_Terjman-Nano-v2.2</th>\n",
       "      <th>CHRF_Terjman-Nano-v2.2</th>\n",
       "      <th>TER_Terjman-Nano-v2.2</th>\n",
       "    </tr>\n",
       "  </thead>\n",
       "  <tbody>\n",
       "    <tr>\n",
       "      <th>0</th>\n",
       "      <td>dialect_variation</td>\n",
       "      <td>marrakech</td>\n",
       "      <td>lays3d lmasa</td>\n",
       "      <td>good evening</td>\n",
       "      <td>الله يسعد الماسا</td>\n",
       "      <td>Marrakech</td>\n",
       "      <td>مساء الخير</td>\n",
       "      <td>0.000000</td>\n",
       "      <td>10.470546</td>\n",
       "      <td>100.000000</td>\n",
       "      <td>مساء الخير</td>\n",
       "      <td>0.000000</td>\n",
       "      <td>10.470546</td>\n",
       "      <td>100.000000</td>\n",
       "      <td>مساء الخير</td>\n",
       "      <td>0.000000</td>\n",
       "      <td>10.470546</td>\n",
       "      <td>100.000000</td>\n",
       "    </tr>\n",
       "    <tr>\n",
       "      <th>1</th>\n",
       "      <td>dialect_variation</td>\n",
       "      <td>marrakech</td>\n",
       "      <td>lays3d saba7</td>\n",
       "      <td>good morning</td>\n",
       "      <td>الله يسعد الصباح</td>\n",
       "      <td>Marrakech</td>\n",
       "      <td>صباح الخير</td>\n",
       "      <td>0.000000</td>\n",
       "      <td>19.232670</td>\n",
       "      <td>100.000000</td>\n",
       "      <td>صباح الخير</td>\n",
       "      <td>0.000000</td>\n",
       "      <td>19.232670</td>\n",
       "      <td>100.000000</td>\n",
       "      <td>صباح الخير</td>\n",
       "      <td>0.000000</td>\n",
       "      <td>19.232670</td>\n",
       "      <td>100.000000</td>\n",
       "    </tr>\n",
       "    <tr>\n",
       "      <th>2</th>\n",
       "      <td>dialect_variation</td>\n",
       "      <td>marrakech</td>\n",
       "      <td>bit nmchi ndrb chi 9siyes flmdina</td>\n",
       "      <td>I’m heading to the old medina to eat something</td>\n",
       "      <td>بيت نمشي نضرب شي قسيس فالمدينة</td>\n",
       "      <td>Marrakech</td>\n",
       "      <td>غاديا للمدينة القديمة باش ناكل شي حاجة</td>\n",
       "      <td>6.567275</td>\n",
       "      <td>21.830982</td>\n",
       "      <td>116.666667</td>\n",
       "      <td>انا غادي للمدينة القديمة باش ناكل شي حاجة</td>\n",
       "      <td>5.522398</td>\n",
       "      <td>22.110967</td>\n",
       "      <td>133.333333</td>\n",
       "      <td>أنا غادي للمدينة القديمة باش ناكل شي حاجة</td>\n",
       "      <td>5.522398</td>\n",
       "      <td>22.110967</td>\n",
       "      <td>133.333333</td>\n",
       "    </tr>\n",
       "    <tr>\n",
       "      <th>3</th>\n",
       "      <td>dialect_variation</td>\n",
       "      <td>marrakech</td>\n",
       "      <td>aji lhad jih</td>\n",
       "      <td>come here</td>\n",
       "      <td>أجي لهاد جيه</td>\n",
       "      <td>Marrakech</td>\n",
       "      <td>اجي لهنا</td>\n",
       "      <td>0.000000</td>\n",
       "      <td>21.938286</td>\n",
       "      <td>100.000000</td>\n",
       "      <td>أجي لهنا</td>\n",
       "      <td>30.326533</td>\n",
       "      <td>33.668460</td>\n",
       "      <td>66.666667</td>\n",
       "      <td>تعال هنا</td>\n",
       "      <td>0.000000</td>\n",
       "      <td>7.303708</td>\n",
       "      <td>100.000000</td>\n",
       "    </tr>\n",
       "    <tr>\n",
       "      <th>4</th>\n",
       "      <td>dialect_variation</td>\n",
       "      <td>marrakech</td>\n",
       "      <td>achawa had ti9i9t lioma</td>\n",
       "      <td>It’s scorching hot today!</td>\n",
       "      <td>أشاوا هاد تيقيقت ليوما</td>\n",
       "      <td>Marrakech</td>\n",
       "      <td>سخون بزاف اليوم</td>\n",
       "      <td>0.000000</td>\n",
       "      <td>12.767666</td>\n",
       "      <td>100.000000</td>\n",
       "      <td>راه سخون بزاف اليوم!</td>\n",
       "      <td>0.000000</td>\n",
       "      <td>15.098620</td>\n",
       "      <td>100.000000</td>\n",
       "      <td>الجو حار بزاف اليوم!</td>\n",
       "      <td>0.000000</td>\n",
       "      <td>14.140764</td>\n",
       "      <td>100.000000</td>\n",
       "    </tr>\n",
       "  </tbody>\n",
       "</table>\n",
       "</div>"
      ],
      "text/plain": [
       "               topic   subtopic                            Arabizi  \\\n",
       "0  dialect_variation  marrakech                       lays3d lmasa   \n",
       "1  dialect_variation  marrakech                       lays3d saba7   \n",
       "2  dialect_variation  marrakech  bit nmchi ndrb chi 9siyes flmdina   \n",
       "3  dialect_variation  marrakech                       aji lhad jih   \n",
       "4  dialect_variation  marrakech            achawa had ti9i9t lioma   \n",
       "\n",
       "                                          English  \\\n",
       "0                                    good evening   \n",
       "1                                    good morning   \n",
       "2  I’m heading to the old medina to eat something   \n",
       "3                                       come here   \n",
       "4                       It’s scorching hot today!   \n",
       "\n",
       "                           Darija annotator_dialect  \\\n",
       "0                الله يسعد الماسا         Marrakech   \n",
       "1                الله يسعد الصباح         Marrakech   \n",
       "2  بيت نمشي نضرب شي قسيس فالمدينة         Marrakech   \n",
       "3                    أجي لهاد جيه         Marrakech   \n",
       "4          أشاوا هاد تيقيقت ليوما         Marrakech   \n",
       "\n",
       "            translated_Terjman-Ultra-v2.2  BLEU_Terjman-Ultra-v2.2  \\\n",
       "0                              مساء الخير                 0.000000   \n",
       "1                              صباح الخير                 0.000000   \n",
       "2  غاديا للمدينة القديمة باش ناكل شي حاجة                 6.567275   \n",
       "3                                اجي لهنا                 0.000000   \n",
       "4                         سخون بزاف اليوم                 0.000000   \n",
       "\n",
       "   CHRF_Terjman-Ultra-v2.2  TER_Terjman-Ultra-v2.2  \\\n",
       "0                10.470546              100.000000   \n",
       "1                19.232670              100.000000   \n",
       "2                21.830982              116.666667   \n",
       "3                21.938286              100.000000   \n",
       "4                12.767666              100.000000   \n",
       "\n",
       "               translated_Terjman-Large-v2.2  BLEU_Terjman-Large-v2.2  \\\n",
       "0                                 مساء الخير                 0.000000   \n",
       "1                                 صباح الخير                 0.000000   \n",
       "2  انا غادي للمدينة القديمة باش ناكل شي حاجة                 5.522398   \n",
       "3                                   أجي لهنا                30.326533   \n",
       "4                       راه سخون بزاف اليوم!                 0.000000   \n",
       "\n",
       "   CHRF_Terjman-Large-v2.2  TER_Terjman-Large-v2.2  \\\n",
       "0                10.470546              100.000000   \n",
       "1                19.232670              100.000000   \n",
       "2                22.110967              133.333333   \n",
       "3                33.668460               66.666667   \n",
       "4                15.098620              100.000000   \n",
       "\n",
       "                translated_Terjman-Nano-v2.2  BLEU_Terjman-Nano-v2.2  \\\n",
       "0                                 مساء الخير                0.000000   \n",
       "1                                 صباح الخير                0.000000   \n",
       "2  أنا غادي للمدينة القديمة باش ناكل شي حاجة                5.522398   \n",
       "3                                   تعال هنا                0.000000   \n",
       "4                       الجو حار بزاف اليوم!                0.000000   \n",
       "\n",
       "   CHRF_Terjman-Nano-v2.2  TER_Terjman-Nano-v2.2  \n",
       "0               10.470546             100.000000  \n",
       "1               19.232670             100.000000  \n",
       "2               22.110967             133.333333  \n",
       "3                7.303708             100.000000  \n",
       "4               14.140764             100.000000  "
      ]
     },
     "execution_count": 8,
     "metadata": {},
     "output_type": "execute_result"
    }
   ],
   "source": [
    "results_df.head()"
   ]
  },
  {
   "cell_type": "code",
   "execution_count": 3,
   "metadata": {},
   "outputs": [
    {
     "name": "stderr",
     "output_type": "stream",
     "text": [
      "Downloading data: 100%|██████████| 257M/257M [00:05<00:00, 47.3MB/s] \n",
      "Downloading data: 100%|██████████| 4.44M/4.44M [00:00<00:00, 9.67MB/s]\n",
      "Generating train split: 100%|██████████| 22134/22134 [00:01<00:00, 12849.31 examples/s]\n"
     ]
    }
   ],
   "source": [
    "dataset = load_dataset(\"BounharAbdelaziz/Darija-Translation-Dataset-22K-all-13-lang\")"
   ]
  },
  {
   "cell_type": "code",
   "execution_count": 4,
   "metadata": {},
   "outputs": [
    {
     "data": {
      "text/plain": [
       "DatasetDict({\n",
       "    train: Dataset({\n",
       "        features: ['english', 'ary_Arab', 'ary_Latn', 'ary_tokens', 'dataset_source', 'arabic', 'french', 'german', 'spanish', 'russian', 'chinese_traditional', 'japanese', 'korean', 'greek', 'italian', 'turkish', 'wolof', 'hindi'],\n",
       "        num_rows: 22134\n",
       "    })\n",
       "})"
      ]
     },
     "execution_count": 4,
     "metadata": {},
     "output_type": "execute_result"
    }
   ],
   "source": [
    "dataset"
   ]
  },
  {
   "cell_type": "code",
   "execution_count": 5,
   "metadata": {},
   "outputs": [],
   "source": [
    "dataset = dataset.select_columns(['english', 'ary_Arab', 'ary_Latn', 'arabic', 'french', 'german', 'spanish', 'russian', 'chinese_traditional', 'japanese', 'korean', 'greek', 'italian', 'turkish', 'hindi', 'ary_tokens', 'dataset_source', ])"
   ]
  },
  {
   "cell_type": "code",
   "execution_count": 6,
   "metadata": {},
   "outputs": [
    {
     "data": {
      "text/plain": [
       "DatasetDict({\n",
       "    train: Dataset({\n",
       "        features: ['english', 'ary_Arab', 'ary_Latn', 'arabic', 'french', 'german', 'spanish', 'russian', 'chinese_traditional', 'japanese', 'korean', 'greek', 'italian', 'turkish', 'hindi', 'ary_tokens', 'dataset_source'],\n",
       "        num_rows: 22134\n",
       "    })\n",
       "})"
      ]
     },
     "execution_count": 6,
     "metadata": {},
     "output_type": "execute_result"
    }
   ],
   "source": [
    "dataset"
   ]
  },
  {
   "cell_type": "code",
   "execution_count": 7,
   "metadata": {},
   "outputs": [
    {
     "name": "stderr",
     "output_type": "stream",
     "text": [
      "Creating parquet from Arrow format: 100%|██████████| 12/12 [00:02<00:00,  5.06ba/s]\n",
      "Creating parquet from Arrow format: 100%|██████████| 12/12 [00:00<00:00, 299.86ba/s]\n",
      "Uploading the dataset shards: 100%|██████████| 2/2 [00:16<00:00,  8.36s/it]\n"
     ]
    },
    {
     "data": {
      "text/plain": [
       "CommitInfo(commit_url='https://huggingface.co/datasets/BounharAbdelaziz/Morocco-Darija-Translation-Dataset-22K-13-lang/commit/11e4e00e86848845177352788e7d14700f918072', commit_message='Kept working columns', commit_description='', oid='11e4e00e86848845177352788e7d14700f918072', pr_url=None, repo_url=RepoUrl('https://huggingface.co/datasets/BounharAbdelaziz/Morocco-Darija-Translation-Dataset-22K-13-lang', endpoint='https://huggingface.co', repo_type='dataset', repo_id='BounharAbdelaziz/Morocco-Darija-Translation-Dataset-22K-13-lang'), pr_revision=None, pr_num=None)"
      ]
     },
     "execution_count": 7,
     "metadata": {},
     "output_type": "execute_result"
    }
   ],
   "source": [
    "dataset.push_to_hub(\"BounharAbdelaziz/Morocco-Darija-Translation-Dataset-22K-13-lang\", private=True, commit_message=\"Kept working columns\")"
   ]
  },
  {
   "cell_type": "code",
   "execution_count": 8,
   "metadata": {},
   "outputs": [
    {
     "name": "stderr",
     "output_type": "stream",
     "text": [
      "Filter: 100%|██████████| 22134/22134 [00:01<00:00, 15464.49 examples/s]\n"
     ]
    }
   ],
   "source": [
    "ds = dataset.filter(lambda x: x['ary_Latn'] != '')"
   ]
  },
  {
   "cell_type": "code",
   "execution_count": 13,
   "metadata": {},
   "outputs": [
    {
     "data": {
      "text/plain": [
       "{'english': 'Do you think I should take a vacation?',\n",
       " 'ary_Arab': 'كيبان ليا خاصني نشد عطلة',\n",
       " 'ary_Latn': 'tayban lik khess nchedd 3oTla?',\n",
       " 'arabic': 'هل تعتقد أنني يجب أن تأخذ إجازة؟',\n",
       " 'french': 'Pensez-vous que je devrais prendre des vacances?',\n",
       " 'german': 'Glaubst du, ich sollte Urlaub machen?',\n",
       " 'spanish': '¿Crees que debería tomarme unas vacaciones?',\n",
       " 'russian': 'Как вы думаете, я должен взять отпуск?',\n",
       " 'chinese_traditional': '您认为我应该度假吗？',\n",
       " 'japanese': '休暇をとるべきだと思いますか？',\n",
       " 'korean': '내가 휴가를 가져야한다고 생각하십니까?',\n",
       " 'greek': 'Πιστεύετε ότι πρέπει να κάνω διακοπές;',\n",
       " 'italian': 'Pensi che dovrei fare una vacanza?',\n",
       " 'turkish': 'Sence tatile çıkmalıyım?',\n",
       " 'hindi': 'क्या आपको लगता है कि मुझे छुट्टी लेनी चाहिए?',\n",
       " 'ary_tokens': 12,\n",
       " 'dataset_source': 'atlasia/DODa-audio-dataset-V3'}"
      ]
     },
     "execution_count": 13,
     "metadata": {},
     "output_type": "execute_result"
    }
   ],
   "source": [
    "ds['train'][100]"
   ]
  },
  {
   "cell_type": "code",
   "execution_count": null,
   "metadata": {},
   "outputs": [],
   "source": []
  }
 ],
 "metadata": {
  "kernelspec": {
   "display_name": "Python 3",
   "language": "python",
   "name": "python3"
  },
  "language_info": {
   "codemirror_mode": {
    "name": "ipython",
    "version": 3
   },
   "file_extension": ".py",
   "mimetype": "text/x-python",
   "name": "python",
   "nbconvert_exporter": "python",
   "pygments_lexer": "ipython3",
   "version": "3.12.3"
  }
 },
 "nbformat": 4,
 "nbformat_minor": 2
}
