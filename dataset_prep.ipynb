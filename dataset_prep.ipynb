{
 "cells": [
  {
   "cell_type": "code",
   "execution_count": 1,
   "metadata": {},
   "outputs": [
    {
     "name": "stderr",
     "output_type": "stream",
     "text": [
      "/home/infres/abounhar/.local/lib/python3.12/site-packages/tqdm/auto.py:21: TqdmWarning: IProgress not found. Please update jupyter and ipywidgets. See https://ipywidgets.readthedocs.io/en/stable/user_install.html\n",
      "  from .autonotebook import tqdm as notebook_tqdm\n"
     ]
    }
   ],
   "source": [
    "import os\n",
    "os.environ[\"TORCH_USE_CUDA_DSA\"] = \"1\" # Enable CUDA DSA\n",
    "os.environ[\"CUDA_VISIBLE_DEVICES\"] = \"2\"\n",
    "\n",
    "from datasets import load_dataset"
   ]
  },
  {
   "cell_type": "code",
   "execution_count": 2,
   "metadata": {},
   "outputs": [],
   "source": [
    "BASE_DATA_PATH = \"BounharAbdelaziz/Terjman-v2-English-Darija-Dataset-580K\"\n",
    "NEW_DODA_DATA_PATH = \"atlasia/DODa-audio-dataset-V3\""
   ]
  },
  {
   "cell_type": "markdown",
   "metadata": {},
   "source": [
    "# Base"
   ]
  },
  {
   "cell_type": "code",
   "execution_count": 3,
   "metadata": {},
   "outputs": [],
   "source": [
    "base = load_dataset(BASE_DATA_PATH, split='train')"
   ]
  },
  {
   "cell_type": "code",
   "execution_count": 4,
   "metadata": {},
   "outputs": [],
   "source": [
    "base = base.to_pandas()\n",
    "base = base[base['dataset_source'] != 'doda']\n",
    "base['darija_Latn'] = ''\n",
    "base.columns = ['english', 'darija_Arab', 'dataset_source', 'id', 'role', 'darija_Latn']\n",
    "base = base[['english', 'darija_Arab', 'darija_Latn', 'dataset_source', 'id', 'role']]"
   ]
  },
  {
   "cell_type": "code",
   "execution_count": 5,
   "metadata": {},
   "outputs": [
    {
     "data": {
      "text/html": [
       "<div>\n",
       "<style scoped>\n",
       "    .dataframe tbody tr th:only-of-type {\n",
       "        vertical-align: middle;\n",
       "    }\n",
       "\n",
       "    .dataframe tbody tr th {\n",
       "        vertical-align: top;\n",
       "    }\n",
       "\n",
       "    .dataframe thead th {\n",
       "        text-align: right;\n",
       "    }\n",
       "</style>\n",
       "<table border=\"1\" class=\"dataframe\">\n",
       "  <thead>\n",
       "    <tr style=\"text-align: right;\">\n",
       "      <th></th>\n",
       "      <th>english</th>\n",
       "      <th>darija_Arab</th>\n",
       "      <th>darija_Latn</th>\n",
       "      <th>dataset_source</th>\n",
       "      <th>id</th>\n",
       "      <th>role</th>\n",
       "    </tr>\n",
       "  </thead>\n",
       "  <tbody>\n",
       "    <tr>\n",
       "      <th>0</th>\n",
       "      <td>More than half of the Makhzen's expenditures w...</td>\n",
       "      <td>التقريب أكثر من نص مصاريف المخزن كانت كتمشي لب...</td>\n",
       "      <td></td>\n",
       "      <td>medmac01/moroccan_history_qa</td>\n",
       "      <td>None</td>\n",
       "      <td>None</td>\n",
       "    </tr>\n",
       "    <tr>\n",
       "      <th>1</th>\n",
       "      <td>What were the consequences of the Makhzen's ex...</td>\n",
       "      <td>ماهي عواقب مصاريف المخزن على الاقتصاد المغربي؟</td>\n",
       "      <td></td>\n",
       "      <td>medmac01/moroccan_history_qa</td>\n",
       "      <td>None</td>\n",
       "      <td>None</td>\n",
       "    </tr>\n",
       "    <tr>\n",
       "      <th>2</th>\n",
       "      <td>The Makhzen's expenditures led to a deteriorat...</td>\n",
       "      <td>نفقات المخزن أدت إلى تدهور الاقتصاد المغربي، ح...</td>\n",
       "      <td></td>\n",
       "      <td>medmac01/moroccan_history_qa</td>\n",
       "      <td>None</td>\n",
       "      <td>None</td>\n",
       "    </tr>\n",
       "    <tr>\n",
       "      <th>3</th>\n",
       "      <td>In the 1890s, the French administration and mi...</td>\n",
       "      <td>في تسعينيات القرن التاسع عشر، طالبت الإدارة وا...</td>\n",
       "      <td></td>\n",
       "      <td>medmac01/moroccan_history_qa</td>\n",
       "      <td>None</td>\n",
       "      <td>None</td>\n",
       "    </tr>\n",
       "    <tr>\n",
       "      <th>4</th>\n",
       "      <td>What were the main reasons behind the French a...</td>\n",
       "      <td>ما كانو الأسباب الرئيسية اللي دفعو فرنسا باش ت...</td>\n",
       "      <td></td>\n",
       "      <td>medmac01/moroccan_history_qa</td>\n",
       "      <td>None</td>\n",
       "      <td>None</td>\n",
       "    </tr>\n",
       "  </tbody>\n",
       "</table>\n",
       "</div>"
      ],
      "text/plain": [
       "                                             english  \\\n",
       "0  More than half of the Makhzen's expenditures w...   \n",
       "1  What were the consequences of the Makhzen's ex...   \n",
       "2  The Makhzen's expenditures led to a deteriorat...   \n",
       "3  In the 1890s, the French administration and mi...   \n",
       "4  What were the main reasons behind the French a...   \n",
       "\n",
       "                                         darija_Arab darija_Latn  \\\n",
       "0  التقريب أكثر من نص مصاريف المخزن كانت كتمشي لب...               \n",
       "1    ماهي عواقب مصاريف المخزن على الاقتصاد المغربي؟                \n",
       "2  نفقات المخزن أدت إلى تدهور الاقتصاد المغربي، ح...               \n",
       "3  في تسعينيات القرن التاسع عشر، طالبت الإدارة وا...               \n",
       "4  ما كانو الأسباب الرئيسية اللي دفعو فرنسا باش ت...               \n",
       "\n",
       "                 dataset_source    id  role  \n",
       "0  medmac01/moroccan_history_qa  None  None  \n",
       "1  medmac01/moroccan_history_qa  None  None  \n",
       "2  medmac01/moroccan_history_qa  None  None  \n",
       "3  medmac01/moroccan_history_qa  None  None  \n",
       "4  medmac01/moroccan_history_qa  None  None  "
      ]
     },
     "execution_count": 5,
     "metadata": {},
     "output_type": "execute_result"
    }
   ],
   "source": [
    "base.head()"
   ]
  },
  {
   "cell_type": "markdown",
   "metadata": {},
   "source": [
    "# Doda"
   ]
  },
  {
   "cell_type": "code",
   "execution_count": 6,
   "metadata": {},
   "outputs": [],
   "source": [
    "doda = load_dataset(NEW_DODA_DATA_PATH, split='train')"
   ]
  },
  {
   "cell_type": "code",
   "execution_count": 7,
   "metadata": {},
   "outputs": [],
   "source": [
    "doda = doda.remove_columns(['audio', 'darija_Arab_old'])\n",
    "doda = doda.to_pandas()\n",
    "doda.columns = ['darija_Latn', 'darija_Arab', 'english']\n",
    "doda = doda[['english', 'darija_Arab', 'darija_Latn']]\n",
    "doda['dataset_source'] = NEW_DODA_DATA_PATH\n",
    "doda['id'] = ''\n",
    "doda['role'] = ''"
   ]
  },
  {
   "cell_type": "code",
   "execution_count": 8,
   "metadata": {},
   "outputs": [
    {
     "data": {
      "text/html": [
       "<div>\n",
       "<style scoped>\n",
       "    .dataframe tbody tr th:only-of-type {\n",
       "        vertical-align: middle;\n",
       "    }\n",
       "\n",
       "    .dataframe tbody tr th {\n",
       "        vertical-align: top;\n",
       "    }\n",
       "\n",
       "    .dataframe thead th {\n",
       "        text-align: right;\n",
       "    }\n",
       "</style>\n",
       "<table border=\"1\" class=\"dataframe\">\n",
       "  <thead>\n",
       "    <tr style=\"text-align: right;\">\n",
       "      <th></th>\n",
       "      <th>english</th>\n",
       "      <th>darija_Arab</th>\n",
       "      <th>darija_Latn</th>\n",
       "      <th>dataset_source</th>\n",
       "      <th>id</th>\n",
       "      <th>role</th>\n",
       "    </tr>\n",
       "  </thead>\n",
       "  <tbody>\n",
       "    <tr>\n",
       "      <th>0</th>\n",
       "      <td>They're hiding something, I'm sure!</td>\n",
       "      <td>هوما مخبيين شي حاجة انا متيقن</td>\n",
       "      <td>homa mkhbbyin chi haja, ana mti99en!</td>\n",
       "      <td>atlasia/DODa-audio-dataset-V3</td>\n",
       "      <td></td>\n",
       "      <td></td>\n",
       "    </tr>\n",
       "    <tr>\n",
       "      <th>1</th>\n",
       "      <td>It's obvious they're trying to keep their cool.</td>\n",
       "      <td>باينة هوما كيحاولو يبقاو مبردين</td>\n",
       "      <td>bayna homa tay7awlo ib9aw mbrrdin.</td>\n",
       "      <td>atlasia/DODa-audio-dataset-V3</td>\n",
       "      <td></td>\n",
       "      <td></td>\n",
       "    </tr>\n",
       "    <tr>\n",
       "      <th>2</th>\n",
       "      <td>the hotels don't seem very comfortable.</td>\n",
       "      <td>لوطيلات مبيناش فيهم مريحين بزاف</td>\n",
       "      <td>loTilat mabaynach fihom mori7in bzzaf.</td>\n",
       "      <td>atlasia/DODa-audio-dataset-V3</td>\n",
       "      <td></td>\n",
       "      <td></td>\n",
       "    </tr>\n",
       "    <tr>\n",
       "      <th>3</th>\n",
       "      <td>he is probably about to be laid off by head of...</td>\n",
       "      <td>غالبا غيجريو عليه من الخدمة</td>\n",
       "      <td>ghaliban ghayjrriw 3lih mn lkhdma!</td>\n",
       "      <td>atlasia/DODa-audio-dataset-V3</td>\n",
       "      <td></td>\n",
       "      <td></td>\n",
       "    </tr>\n",
       "    <tr>\n",
       "      <th>4</th>\n",
       "      <td>of course he's depressive!</td>\n",
       "      <td>طبعا راه مكتئب</td>\n",
       "      <td>Tab3an rah mkta2eb!</td>\n",
       "      <td>atlasia/DODa-audio-dataset-V3</td>\n",
       "      <td></td>\n",
       "      <td></td>\n",
       "    </tr>\n",
       "  </tbody>\n",
       "</table>\n",
       "</div>"
      ],
      "text/plain": [
       "                                             english  \\\n",
       "0                They're hiding something, I'm sure!   \n",
       "1    It's obvious they're trying to keep their cool.   \n",
       "2            the hotels don't seem very comfortable.   \n",
       "3  he is probably about to be laid off by head of...   \n",
       "4                         of course he's depressive!   \n",
       "\n",
       "                       darija_Arab                             darija_Latn  \\\n",
       "0    هوما مخبيين شي حاجة انا متيقن    homa mkhbbyin chi haja, ana mti99en!   \n",
       "1  باينة هوما كيحاولو يبقاو مبردين      bayna homa tay7awlo ib9aw mbrrdin.   \n",
       "2  لوطيلات مبيناش فيهم مريحين بزاف  loTilat mabaynach fihom mori7in bzzaf.   \n",
       "3      غالبا غيجريو عليه من الخدمة      ghaliban ghayjrriw 3lih mn lkhdma!   \n",
       "4                   طبعا راه مكتئب                     Tab3an rah mkta2eb!   \n",
       "\n",
       "                  dataset_source id role  \n",
       "0  atlasia/DODa-audio-dataset-V3          \n",
       "1  atlasia/DODa-audio-dataset-V3          \n",
       "2  atlasia/DODa-audio-dataset-V3          \n",
       "3  atlasia/DODa-audio-dataset-V3          \n",
       "4  atlasia/DODa-audio-dataset-V3          "
      ]
     },
     "execution_count": 8,
     "metadata": {},
     "output_type": "execute_result"
    }
   ],
   "source": [
    "doda.head()"
   ]
  },
  {
   "cell_type": "markdown",
   "metadata": {},
   "source": [
    "# Concat"
   ]
  },
  {
   "cell_type": "code",
   "execution_count": 9,
   "metadata": {},
   "outputs": [],
   "source": [
    "import pandas as pd"
   ]
  },
  {
   "cell_type": "code",
   "execution_count": 49,
   "metadata": {},
   "outputs": [],
   "source": [
    "concatenated = pd.concat([base, doda])"
   ]
  },
  {
   "cell_type": "code",
   "execution_count": 50,
   "metadata": {},
   "outputs": [
    {
     "data": {
      "text/html": [
       "<div>\n",
       "<style scoped>\n",
       "    .dataframe tbody tr th:only-of-type {\n",
       "        vertical-align: middle;\n",
       "    }\n",
       "\n",
       "    .dataframe tbody tr th {\n",
       "        vertical-align: top;\n",
       "    }\n",
       "\n",
       "    .dataframe thead th {\n",
       "        text-align: right;\n",
       "    }\n",
       "</style>\n",
       "<table border=\"1\" class=\"dataframe\">\n",
       "  <thead>\n",
       "    <tr style=\"text-align: right;\">\n",
       "      <th></th>\n",
       "      <th>english</th>\n",
       "      <th>darija_Arab</th>\n",
       "      <th>darija_Latn</th>\n",
       "      <th>dataset_source</th>\n",
       "      <th>id</th>\n",
       "      <th>role</th>\n",
       "    </tr>\n",
       "  </thead>\n",
       "  <tbody>\n",
       "    <tr>\n",
       "      <th>0</th>\n",
       "      <td>More than half of the Makhzen's expenditures w...</td>\n",
       "      <td>التقريب أكثر من نص مصاريف المخزن كانت كتمشي لب...</td>\n",
       "      <td></td>\n",
       "      <td>medmac01/moroccan_history_qa</td>\n",
       "      <td>None</td>\n",
       "      <td>None</td>\n",
       "    </tr>\n",
       "    <tr>\n",
       "      <th>1</th>\n",
       "      <td>What were the consequences of the Makhzen's ex...</td>\n",
       "      <td>ماهي عواقب مصاريف المخزن على الاقتصاد المغربي؟</td>\n",
       "      <td></td>\n",
       "      <td>medmac01/moroccan_history_qa</td>\n",
       "      <td>None</td>\n",
       "      <td>None</td>\n",
       "    </tr>\n",
       "    <tr>\n",
       "      <th>2</th>\n",
       "      <td>The Makhzen's expenditures led to a deteriorat...</td>\n",
       "      <td>نفقات المخزن أدت إلى تدهور الاقتصاد المغربي، ح...</td>\n",
       "      <td></td>\n",
       "      <td>medmac01/moroccan_history_qa</td>\n",
       "      <td>None</td>\n",
       "      <td>None</td>\n",
       "    </tr>\n",
       "    <tr>\n",
       "      <th>3</th>\n",
       "      <td>In the 1890s, the French administration and mi...</td>\n",
       "      <td>في تسعينيات القرن التاسع عشر، طالبت الإدارة وا...</td>\n",
       "      <td></td>\n",
       "      <td>medmac01/moroccan_history_qa</td>\n",
       "      <td>None</td>\n",
       "      <td>None</td>\n",
       "    </tr>\n",
       "    <tr>\n",
       "      <th>4</th>\n",
       "      <td>What were the main reasons behind the French a...</td>\n",
       "      <td>ما كانو الأسباب الرئيسية اللي دفعو فرنسا باش ت...</td>\n",
       "      <td></td>\n",
       "      <td>medmac01/moroccan_history_qa</td>\n",
       "      <td>None</td>\n",
       "      <td>None</td>\n",
       "    </tr>\n",
       "  </tbody>\n",
       "</table>\n",
       "</div>"
      ],
      "text/plain": [
       "                                             english  \\\n",
       "0  More than half of the Makhzen's expenditures w...   \n",
       "1  What were the consequences of the Makhzen's ex...   \n",
       "2  The Makhzen's expenditures led to a deteriorat...   \n",
       "3  In the 1890s, the French administration and mi...   \n",
       "4  What were the main reasons behind the French a...   \n",
       "\n",
       "                                         darija_Arab darija_Latn  \\\n",
       "0  التقريب أكثر من نص مصاريف المخزن كانت كتمشي لب...               \n",
       "1    ماهي عواقب مصاريف المخزن على الاقتصاد المغربي؟                \n",
       "2  نفقات المخزن أدت إلى تدهور الاقتصاد المغربي، ح...               \n",
       "3  في تسعينيات القرن التاسع عشر، طالبت الإدارة وا...               \n",
       "4  ما كانو الأسباب الرئيسية اللي دفعو فرنسا باش ت...               \n",
       "\n",
       "                 dataset_source    id  role  \n",
       "0  medmac01/moroccan_history_qa  None  None  \n",
       "1  medmac01/moroccan_history_qa  None  None  \n",
       "2  medmac01/moroccan_history_qa  None  None  \n",
       "3  medmac01/moroccan_history_qa  None  None  \n",
       "4  medmac01/moroccan_history_qa  None  None  "
      ]
     },
     "execution_count": 50,
     "metadata": {},
     "output_type": "execute_result"
    }
   ],
   "source": [
    "concatenated.head()"
   ]
  },
  {
   "cell_type": "code",
   "execution_count": 53,
   "metadata": {},
   "outputs": [
    {
     "data": {
      "text/plain": [
       "english                0\n",
       "darija_Arab            0\n",
       "darija_Latn            0\n",
       "dataset_source         0\n",
       "id                213686\n",
       "role              213686\n",
       "dtype: int64"
      ]
     },
     "execution_count": 53,
     "metadata": {},
     "output_type": "execute_result"
    }
   ],
   "source": [
    "concatenated.isna().sum()"
   ]
  },
  {
   "cell_type": "code",
   "execution_count": 56,
   "metadata": {},
   "outputs": [],
   "source": [
    "concatenated = concatenated.dropna(subset=['english', 'darija_Arab'])\n",
    "concatenated = concatenated.drop_duplicates(subset=['english', 'darija_Arab'])"
   ]
  },
  {
   "cell_type": "markdown",
   "metadata": {},
   "source": [
    "# TerjamaBench"
   ]
  },
  {
   "cell_type": "code",
   "execution_count": 12,
   "metadata": {},
   "outputs": [],
   "source": [
    "bench = load_dataset(\"atlasia/TerjamaBench\", split='test').to_pandas()"
   ]
  },
  {
   "cell_type": "code",
   "execution_count": 13,
   "metadata": {},
   "outputs": [
    {
     "data": {
      "text/html": [
       "<div>\n",
       "<style scoped>\n",
       "    .dataframe tbody tr th:only-of-type {\n",
       "        vertical-align: middle;\n",
       "    }\n",
       "\n",
       "    .dataframe tbody tr th {\n",
       "        vertical-align: top;\n",
       "    }\n",
       "\n",
       "    .dataframe thead th {\n",
       "        text-align: right;\n",
       "    }\n",
       "</style>\n",
       "<table border=\"1\" class=\"dataframe\">\n",
       "  <thead>\n",
       "    <tr style=\"text-align: right;\">\n",
       "      <th></th>\n",
       "      <th>topic</th>\n",
       "      <th>subtopic</th>\n",
       "      <th>Arabizi</th>\n",
       "      <th>English</th>\n",
       "      <th>Darija</th>\n",
       "      <th>annotator_dialect</th>\n",
       "    </tr>\n",
       "  </thead>\n",
       "  <tbody>\n",
       "    <tr>\n",
       "      <th>0</th>\n",
       "      <td>dialect_variation</td>\n",
       "      <td>marrakech</td>\n",
       "      <td>lays3d lmasa</td>\n",
       "      <td>good evening</td>\n",
       "      <td>الله يسعد الماسا</td>\n",
       "      <td>Marrakech</td>\n",
       "    </tr>\n",
       "    <tr>\n",
       "      <th>1</th>\n",
       "      <td>dialect_variation</td>\n",
       "      <td>marrakech</td>\n",
       "      <td>lays3d saba7</td>\n",
       "      <td>good morning</td>\n",
       "      <td>الله يسعد الصباح</td>\n",
       "      <td>Marrakech</td>\n",
       "    </tr>\n",
       "    <tr>\n",
       "      <th>2</th>\n",
       "      <td>dialect_variation</td>\n",
       "      <td>marrakech</td>\n",
       "      <td>bit nmchi ndrb chi 9siyes flmdina</td>\n",
       "      <td>I’m heading to the old medina to eat something</td>\n",
       "      <td>بيت نمشي نضرب شي قسيس فالمدينة</td>\n",
       "      <td>Marrakech</td>\n",
       "    </tr>\n",
       "    <tr>\n",
       "      <th>3</th>\n",
       "      <td>dialect_variation</td>\n",
       "      <td>marrakech</td>\n",
       "      <td>aji lhad jih</td>\n",
       "      <td>come here</td>\n",
       "      <td>أجي لهاد جيه</td>\n",
       "      <td>Marrakech</td>\n",
       "    </tr>\n",
       "    <tr>\n",
       "      <th>4</th>\n",
       "      <td>dialect_variation</td>\n",
       "      <td>marrakech</td>\n",
       "      <td>achawa had ti9i9t lioma</td>\n",
       "      <td>It’s scorching hot today!</td>\n",
       "      <td>أشاوا هاد تيقيقت ليوما</td>\n",
       "      <td>Marrakech</td>\n",
       "    </tr>\n",
       "  </tbody>\n",
       "</table>\n",
       "</div>"
      ],
      "text/plain": [
       "               topic   subtopic                            Arabizi  \\\n",
       "0  dialect_variation  marrakech                       lays3d lmasa   \n",
       "1  dialect_variation  marrakech                       lays3d saba7   \n",
       "2  dialect_variation  marrakech  bit nmchi ndrb chi 9siyes flmdina   \n",
       "3  dialect_variation  marrakech                       aji lhad jih   \n",
       "4  dialect_variation  marrakech            achawa had ti9i9t lioma   \n",
       "\n",
       "                                          English  \\\n",
       "0                                    good evening   \n",
       "1                                    good morning   \n",
       "2  I’m heading to the old medina to eat something   \n",
       "3                                       come here   \n",
       "4                       It’s scorching hot today!   \n",
       "\n",
       "                           Darija annotator_dialect  \n",
       "0                الله يسعد الماسا         Marrakech  \n",
       "1                الله يسعد الصباح         Marrakech  \n",
       "2  بيت نمشي نضرب شي قسيس فالمدينة         Marrakech  \n",
       "3                    أجي لهاد جيه         Marrakech  \n",
       "4          أشاوا هاد تيقيقت ليوما         Marrakech  "
      ]
     },
     "execution_count": 13,
     "metadata": {},
     "output_type": "execute_result"
    }
   ],
   "source": [
    "bench.head()"
   ]
  },
  {
   "cell_type": "code",
   "execution_count": 14,
   "metadata": {},
   "outputs": [
    {
     "data": {
      "text/plain": [
       "Index(['topic', 'subtopic', 'Arabizi', 'English', 'Darija',\n",
       "       'annotator_dialect'],\n",
       "      dtype='object')"
      ]
     },
     "execution_count": 14,
     "metadata": {},
     "output_type": "execute_result"
    }
   ],
   "source": [
    "bench.columns = ['topic', 'subtopic', 'darija_Latn', 'english', 'darija_Arab', 'annotator_dialect']"
   ]
  },
  {
   "cell_type": "code",
   "execution_count": 16,
   "metadata": {},
   "outputs": [
    {
     "data": {
      "text/html": [
       "<div>\n",
       "<style scoped>\n",
       "    .dataframe tbody tr th:only-of-type {\n",
       "        vertical-align: middle;\n",
       "    }\n",
       "\n",
       "    .dataframe tbody tr th {\n",
       "        vertical-align: top;\n",
       "    }\n",
       "\n",
       "    .dataframe thead th {\n",
       "        text-align: right;\n",
       "    }\n",
       "</style>\n",
       "<table border=\"1\" class=\"dataframe\">\n",
       "  <thead>\n",
       "    <tr style=\"text-align: right;\">\n",
       "      <th></th>\n",
       "      <th>topic</th>\n",
       "      <th>subtopic</th>\n",
       "      <th>darija_Latn</th>\n",
       "      <th>english</th>\n",
       "      <th>darija_Arab</th>\n",
       "      <th>annotator_dialect</th>\n",
       "    </tr>\n",
       "  </thead>\n",
       "  <tbody>\n",
       "    <tr>\n",
       "      <th>0</th>\n",
       "      <td>dialect_variation</td>\n",
       "      <td>marrakech</td>\n",
       "      <td>lays3d lmasa</td>\n",
       "      <td>good evening</td>\n",
       "      <td>الله يسعد الماسا</td>\n",
       "      <td>Marrakech</td>\n",
       "    </tr>\n",
       "    <tr>\n",
       "      <th>1</th>\n",
       "      <td>dialect_variation</td>\n",
       "      <td>marrakech</td>\n",
       "      <td>lays3d saba7</td>\n",
       "      <td>good morning</td>\n",
       "      <td>الله يسعد الصباح</td>\n",
       "      <td>Marrakech</td>\n",
       "    </tr>\n",
       "    <tr>\n",
       "      <th>2</th>\n",
       "      <td>dialect_variation</td>\n",
       "      <td>marrakech</td>\n",
       "      <td>bit nmchi ndrb chi 9siyes flmdina</td>\n",
       "      <td>I’m heading to the old medina to eat something</td>\n",
       "      <td>بيت نمشي نضرب شي قسيس فالمدينة</td>\n",
       "      <td>Marrakech</td>\n",
       "    </tr>\n",
       "    <tr>\n",
       "      <th>3</th>\n",
       "      <td>dialect_variation</td>\n",
       "      <td>marrakech</td>\n",
       "      <td>aji lhad jih</td>\n",
       "      <td>come here</td>\n",
       "      <td>أجي لهاد جيه</td>\n",
       "      <td>Marrakech</td>\n",
       "    </tr>\n",
       "    <tr>\n",
       "      <th>4</th>\n",
       "      <td>dialect_variation</td>\n",
       "      <td>marrakech</td>\n",
       "      <td>achawa had ti9i9t lioma</td>\n",
       "      <td>It’s scorching hot today!</td>\n",
       "      <td>أشاوا هاد تيقيقت ليوما</td>\n",
       "      <td>Marrakech</td>\n",
       "    </tr>\n",
       "  </tbody>\n",
       "</table>\n",
       "</div>"
      ],
      "text/plain": [
       "               topic   subtopic                        darija_Latn  \\\n",
       "0  dialect_variation  marrakech                       lays3d lmasa   \n",
       "1  dialect_variation  marrakech                       lays3d saba7   \n",
       "2  dialect_variation  marrakech  bit nmchi ndrb chi 9siyes flmdina   \n",
       "3  dialect_variation  marrakech                       aji lhad jih   \n",
       "4  dialect_variation  marrakech            achawa had ti9i9t lioma   \n",
       "\n",
       "                                          english  \\\n",
       "0                                    good evening   \n",
       "1                                    good morning   \n",
       "2  I’m heading to the old medina to eat something   \n",
       "3                                       come here   \n",
       "4                       It’s scorching hot today!   \n",
       "\n",
       "                      darija_Arab annotator_dialect  \n",
       "0                الله يسعد الماسا         Marrakech  \n",
       "1                الله يسعد الصباح         Marrakech  \n",
       "2  بيت نمشي نضرب شي قسيس فالمدينة         Marrakech  \n",
       "3                    أجي لهاد جيه         Marrakech  \n",
       "4          أشاوا هاد تيقيقت ليوما         Marrakech  "
      ]
     },
     "execution_count": 16,
     "metadata": {},
     "output_type": "execute_result"
    }
   ],
   "source": [
    "bench.head()"
   ]
  },
  {
   "cell_type": "markdown",
   "metadata": {},
   "source": [
    "# Create train and test splits"
   ]
  },
  {
   "cell_type": "code",
   "execution_count": 17,
   "metadata": {},
   "outputs": [],
   "source": [
    "from datasets import Dataset, DatasetDict"
   ]
  },
  {
   "cell_type": "code",
   "execution_count": 57,
   "metadata": {},
   "outputs": [],
   "source": [
    "dataset = DatasetDict({\n",
    "    \"train\": Dataset.from_pandas(concatenated),\n",
    "    \"test\": Dataset.from_pandas(bench),\n",
    "})"
   ]
  },
  {
   "cell_type": "code",
   "execution_count": 58,
   "metadata": {},
   "outputs": [
    {
     "data": {
      "text/plain": [
       "DatasetDict({\n",
       "    train: Dataset({\n",
       "        features: ['english', 'darija_Arab', 'darija_Latn', 'dataset_source', 'id', 'role', '__index_level_0__'],\n",
       "        num_rows: 577974\n",
       "    })\n",
       "    test: Dataset({\n",
       "        features: ['topic', 'subtopic', 'darija_Latn', 'english', 'darija_Arab', 'annotator_dialect'],\n",
       "        num_rows: 850\n",
       "    })\n",
       "})"
      ]
     },
     "execution_count": 58,
     "metadata": {},
     "output_type": "execute_result"
    }
   ],
   "source": [
    "dataset"
   ]
  },
  {
   "cell_type": "code",
   "execution_count": 62,
   "metadata": {},
   "outputs": [],
   "source": [
    "dataset['train'] = dataset['train'].remove_columns(['__index_level_0__'])"
   ]
  },
  {
   "cell_type": "markdown",
   "metadata": {},
   "source": [
    "## Token count"
   ]
  },
  {
   "cell_type": "code",
   "execution_count": 19,
   "metadata": {},
   "outputs": [],
   "source": [
    "from transformers import AutoTokenizer"
   ]
  },
  {
   "cell_type": "code",
   "execution_count": 20,
   "metadata": {},
   "outputs": [],
   "source": [
    "TOKENIZER_PATH = \"facebook/nllb-200-3.3B\""
   ]
  },
  {
   "cell_type": "code",
   "execution_count": 39,
   "metadata": {},
   "outputs": [],
   "source": [
    "def count_tokens(text, tokenizer):\n",
    "    tokens = tokenizer(text)\n",
    "    num_tokens = [len(tokens) for tokens in tokens['input_ids']]\n",
    "    return {'darija_tokens': num_tokens}"
   ]
  },
  {
   "cell_type": "code",
   "execution_count": 21,
   "metadata": {},
   "outputs": [],
   "source": [
    "# we use NLLB-3.3B tokenizer\n",
    "tokenizer = AutoTokenizer.from_pretrained(TOKENIZER_PATH)"
   ]
  },
  {
   "cell_type": "code",
   "execution_count": 23,
   "metadata": {},
   "outputs": [
    {
     "data": {
      "text/plain": [
       "4"
      ]
     },
     "execution_count": 23,
     "metadata": {},
     "output_type": "execute_result"
    }
   ],
   "source": [
    "count_tokens(\"hello world\", tokenizer)"
   ]
  },
  {
   "cell_type": "code",
   "execution_count": 59,
   "metadata": {},
   "outputs": [
    {
     "name": "stderr",
     "output_type": "stream",
     "text": [
      "Map: 100%|██████████| 577974/577974 [00:36<00:00, 15948.77 examples/s]\n"
     ]
    }
   ],
   "source": [
    "dataset['train'] = dataset['train'].map(lambda row: count_tokens(row['darija_Arab'], tokenizer), batched=True)"
   ]
  },
  {
   "cell_type": "code",
   "execution_count": 60,
   "metadata": {},
   "outputs": [
    {
     "name": "stderr",
     "output_type": "stream",
     "text": [
      "Map: 100%|██████████| 850/850 [00:00<00:00, 54744.16 examples/s]\n"
     ]
    }
   ],
   "source": [
    "dataset['test'] = dataset['test'].map(lambda row: count_tokens(row['darija_Arab'], tokenizer), batched=True)"
   ]
  },
  {
   "cell_type": "code",
   "execution_count": 63,
   "metadata": {},
   "outputs": [
    {
     "data": {
      "text/plain": [
       "DatasetDict({\n",
       "    train: Dataset({\n",
       "        features: ['english', 'darija_Arab', 'darija_Latn', 'dataset_source', 'id', 'role', 'darija_tokens'],\n",
       "        num_rows: 577974\n",
       "    })\n",
       "    test: Dataset({\n",
       "        features: ['topic', 'subtopic', 'darija_Latn', 'english', 'darija_Arab', 'annotator_dialect', 'darija_tokens'],\n",
       "        num_rows: 850\n",
       "    })\n",
       "})"
      ]
     },
     "execution_count": 63,
     "metadata": {},
     "output_type": "execute_result"
    }
   ],
   "source": [
    "dataset"
   ]
  },
  {
   "cell_type": "code",
   "execution_count": 64,
   "metadata": {},
   "outputs": [],
   "source": [
    "total_train_tokens = sum(dataset['train']['darija_tokens'])\n",
    "total_test_tokens = sum(dataset['test']['darija_tokens'])"
   ]
  },
  {
   "cell_type": "code",
   "execution_count": 67,
   "metadata": {},
   "outputs": [
    {
     "name": "stdout",
     "output_type": "stream",
     "text": [
      "Terjman-v2 total train tokens: 77911974\n"
     ]
    }
   ],
   "source": [
    "print(f'Terjman-v2 total train tokens: {total_train_tokens}')"
   ]
  },
  {
   "cell_type": "code",
   "execution_count": 75,
   "metadata": {},
   "outputs": [],
   "source": [
    "HUB_DATA_PATH = \"BounharAbdelaziz/Terjman-v2-English-Darija-Dataset-580K\""
   ]
  },
  {
   "cell_type": "code",
   "execution_count": 69,
   "metadata": {},
   "outputs": [
    {
     "data": {
      "text/plain": [
       "DatasetDict({\n",
       "    train: Dataset({\n",
       "        features: ['english', 'darija_Arab', 'darija_Latn', 'dataset_source', 'id', 'role', 'darija_tokens'],\n",
       "        num_rows: 577974\n",
       "    })\n",
       "    test: Dataset({\n",
       "        features: ['topic', 'subtopic', 'darija_Latn', 'english', 'darija_Arab', 'annotator_dialect', 'darija_tokens'],\n",
       "        num_rows: 850\n",
       "    })\n",
       "})"
      ]
     },
     "execution_count": 69,
     "metadata": {},
     "output_type": "execute_result"
    }
   ],
   "source": [
    "dataset"
   ]
  },
  {
   "cell_type": "markdown",
   "metadata": {},
   "source": [
    "## Align the two datasets"
   ]
  },
  {
   "cell_type": "code",
   "execution_count": 76,
   "metadata": {},
   "outputs": [
    {
     "name": "stderr",
     "output_type": "stream",
     "text": [
      "Creating parquet from Arrow format: 100%|██████████| 289/289 [00:00<00:00, 338.06ba/s]\n",
      "Creating parquet from Arrow format: 100%|██████████| 289/289 [00:01<00:00, 174.74ba/s]\n",
      "Uploading the dataset shards: 100%|██████████| 2/2 [00:11<00:00,  5.88s/it]\n",
      "Creating parquet from Arrow format: 100%|██████████| 1/1 [00:00<00:00, 737.27ba/s]\n",
      "Uploading the dataset shards: 100%|██████████| 1/1 [00:00<00:00,  1.55it/s]\n"
     ]
    },
    {
     "data": {
      "text/plain": [
       "CommitInfo(commit_url='https://huggingface.co/datasets/BounharAbdelaziz/Terjman-v2-English-Darija-Dataset-580K/commit/69785d61869579790360729aa205a2454fc34fdc', commit_message='Added TerjamaBench, removed NaNs, counted tokens, aligned features', commit_description='', oid='69785d61869579790360729aa205a2454fc34fdc', pr_url=None, repo_url=RepoUrl('https://huggingface.co/datasets/BounharAbdelaziz/Terjman-v2-English-Darija-Dataset-580K', endpoint='https://huggingface.co', repo_type='dataset', repo_id='BounharAbdelaziz/Terjman-v2-English-Darija-Dataset-580K'), pr_revision=None, pr_num=None)"
      ]
     },
     "execution_count": 76,
     "metadata": {},
     "output_type": "execute_result"
    }
   ],
   "source": [
    "# Get all column names from both train and test\n",
    "all_columns = set(dataset[\"train\"].column_names) | set(dataset[\"test\"].column_names)\n",
    "\n",
    "# Function to add missing columns with default values\n",
    "def align_columns(ds, all_columns):\n",
    "    for col in all_columns:\n",
    "        if col not in ds.column_names:\n",
    "            ds = ds.add_column(col, [\"\"] * len(ds))  # Fill with empty strings (one can use None)\n",
    "    return ds\n",
    "\n",
    "# Apply to both train and test\n",
    "dataset[\"train\"] = align_columns(dataset[\"train\"], all_columns)\n",
    "dataset[\"test\"] = align_columns(dataset[\"test\"], all_columns)\n",
    "\n",
    "# Now push to hub\n",
    "dataset.push_to_hub(HUB_DATA_PATH, commit_message=\"Added TerjamaBench, removed NaNs, counted tokens, aligned features\", private=True)"
   ]
  },
  {
   "cell_type": "code",
   "execution_count": 77,
   "metadata": {},
   "outputs": [
    {
     "data": {
      "text/plain": [
       "DatasetDict({\n",
       "    train: Dataset({\n",
       "        features: ['english', 'darija_Arab', 'darija_Latn', 'dataset_source', 'id', 'role', 'darija_tokens', 'subtopic', 'topic', 'annotator_dialect'],\n",
       "        num_rows: 577974\n",
       "    })\n",
       "    test: Dataset({\n",
       "        features: ['topic', 'subtopic', 'darija_Latn', 'english', 'darija_Arab', 'annotator_dialect', 'darija_tokens', 'dataset_source', 'role', 'id'],\n",
       "        num_rows: 850\n",
       "    })\n",
       "})"
      ]
     },
     "execution_count": 77,
     "metadata": {},
     "output_type": "execute_result"
    }
   ],
   "source": [
    "dataset"
   ]
  }
 ],
 "metadata": {
  "kernelspec": {
   "display_name": "Python 3",
   "language": "python",
   "name": "python3"
  },
  "language_info": {
   "codemirror_mode": {
    "name": "ipython",
    "version": 3
   },
   "file_extension": ".py",
   "mimetype": "text/x-python",
   "name": "python",
   "nbconvert_exporter": "python",
   "pygments_lexer": "ipython3",
   "version": "3.12.3"
  }
 },
 "nbformat": 4,
 "nbformat_minor": 2
}
